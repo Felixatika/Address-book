{
  "nbformat": 4,
  "nbformat_minor": 0,
  "metadata": {
    "kernelspec": {
      "display_name": "Python 3",
      "language": "python",
      "name": "python3"
    },
    "language_info": {
      "codemirror_mode": {
        "name": "ipython",
        "version": 3
      },
      "file_extension": ".py",
      "mimetype": "text/x-python",
      "name": "python",
      "nbconvert_exporter": "python",
      "pygments_lexer": "ipython3",
      "version": "3.7.3"
    },
    "colab": {
      "name": "Assignment_4.ipynb",
      "provenance": [],
      "collapsed_sections": [],
      "include_colab_link": true
    }
  },
  "cells": [
    {
      "cell_type": "markdown",
      "metadata": {
        "id": "view-in-github",
        "colab_type": "text"
      },
      "source": [
        "<a href=\"https://colab.research.google.com/github/Felixatika/Address-book/blob/master/Assignment_4.ipynb\" target=\"_parent\"><img src=\"https://colab.research.google.com/assets/colab-badge.svg\" alt=\"Open In Colab\"/></a>"
      ]
    },
    {
      "cell_type": "markdown",
      "metadata": {
        "id": "VfDPpIWSgIxU"
      },
      "source": [
        "# Assignment 4\n",
        "\n",
        "Assignment 4 is part of Lab 3_ KNN. After you build the KNN model how you can improve your results?\n",
        "\n",
        "## Improving model performance: \n",
        "\n",
        "**17. How can you improve the performance of your knn model? list two ways.**\n",
        "\n",
        "**18. Apply those 2 different ways of improvements. Discuss and explain your results.**\n",
        "\n",
        "So, let's start by re-run the code from lab 3 first and at the end you can try to answer the questions 17 and 18 to improve the model."
      ]
    },
    {
      "cell_type": "markdown",
      "metadata": {
        "id": "Otp93QjFgIxW"
      },
      "source": [
        "**Objective: Learn how to apply the K-NN algorithm.**\n",
        "\n",
        "Routine breast cancer screening allows the disease to be diagnosed and treated prior to it causing noticeable symptoms. The process of early detection involves examining the breast tissue for abnormal lumps or masses. If a lump is found, a fine-needle aspiration biopsy is performed, which uses a hollow needle to extract a small sample of cells from the mass. A clinician then examines the cells under a microscope to determine whether the mass is likely to be malignant or benign.\n",
        "\n",
        "If machine learning could automate the identification of cancerous cells, it would provide considerable benefit to the health system. Automated processes are likely to improve the efficiency of the detection process, allowing physicians to spend less time diagnosing and more time treating the disease. An automated screening system might also provide greater detection accuracy by removing the inherently subjective human component from the process.\n",
        "\n",
        "We will investigate the utility of machine learning for detecting cancer by applying the k-NN algorithm to measurements of biopsied cells from women with abnormal breast masses."
      ]
    },
    {
      "cell_type": "markdown",
      "metadata": {
        "id": "VTuSB3fhgIxX"
      },
      "source": [
        "# I. Collecting data\n",
        "\n",
        "We will utilize the Wisconsin Breast Cancer Diagnostic dataset from the UCI Machine Learning Repository.\n",
        "\n",
        "This data was donated by researchers of the University of Wisconsin and includes the measurements from digitized images of fine-needle aspirate of a breast mass. The values represent the characteristics of the cell nuclei present in the digital image."
      ]
    },
    {
      "cell_type": "markdown",
      "metadata": {
        "id": "BS-q7r25gIxY"
      },
      "source": [
        "# II. Exploring and preparing the data\n",
        "\n",
        "## A. Exploring the data\n",
        "\n",
        "Let’s explore the data and see whether we can shine some light on the relationships.\n",
        "\n",
        "In doing so, we will prepare the data for use with the k-NN learning method.\n",
        "\n",
        "**1. Import and read the csv data file.**\n",
        "\n",
        "**2. Examine the structure of the data frame.**"
      ]
    },
    {
      "cell_type": "code",
      "metadata": {
        "id": "hDLUP2ilgIxZ",
        "outputId": "19a57fc2-e5ec-4fc2-a6e1-169ff063a80e",
        "colab": {
          "base_uri": "https://localhost:8080/",
          "height": 816
        }
      },
      "source": [
        "import pandas as pd\n",
        "#1.\n",
        "df = pd.read_csv(\"wisc_bc_data.csv\")\n",
        "print(df.head())\n",
        "#2.\n",
        "df.info()"
      ],
      "execution_count": null,
      "outputs": [
        {
          "output_type": "stream",
          "text": [
            "         id diagnosis  ...  symmetry_worst  dimension_worst\n",
            "0  87139402         B  ...          0.2827          0.06771\n",
            "1   8910251         B  ...          0.2940          0.07587\n",
            "2    905520         B  ...          0.2998          0.07881\n",
            "3    868871         B  ...          0.2102          0.06784\n",
            "4   9012568         B  ...          0.2487          0.06766\n",
            "\n",
            "[5 rows x 32 columns]\n",
            "<class 'pandas.core.frame.DataFrame'>\n",
            "RangeIndex: 569 entries, 0 to 568\n",
            "Data columns (total 32 columns):\n",
            " #   Column             Non-Null Count  Dtype  \n",
            "---  ------             --------------  -----  \n",
            " 0   id                 569 non-null    int64  \n",
            " 1   diagnosis          569 non-null    object \n",
            " 2   radius_mean        569 non-null    float64\n",
            " 3   texture_mean       569 non-null    float64\n",
            " 4   perimeter_mean     569 non-null    float64\n",
            " 5   area_mean          569 non-null    float64\n",
            " 6   smoothness_mean    569 non-null    float64\n",
            " 7   compactness_mean   569 non-null    float64\n",
            " 8   concavity_mean     569 non-null    float64\n",
            " 9   points_mean        569 non-null    float64\n",
            " 10  symmetry_mean      569 non-null    float64\n",
            " 11  dimension_mean     569 non-null    float64\n",
            " 12  radius_se          569 non-null    float64\n",
            " 13  texture_se         569 non-null    float64\n",
            " 14  perimeter_se       569 non-null    float64\n",
            " 15  area_se            569 non-null    float64\n",
            " 16  smoothness_se      569 non-null    float64\n",
            " 17  compactness_se     569 non-null    float64\n",
            " 18  concavity_se       569 non-null    float64\n",
            " 19  points_se          569 non-null    float64\n",
            " 20  symmetry_se        569 non-null    float64\n",
            " 21  dimension_se       569 non-null    float64\n",
            " 22  radius_worst       569 non-null    float64\n",
            " 23  texture_worst      569 non-null    float64\n",
            " 24  perimeter_worst    569 non-null    float64\n",
            " 25  area_worst         569 non-null    float64\n",
            " 26  smoothness_worst   569 non-null    float64\n",
            " 27  compactness_worst  569 non-null    float64\n",
            " 28  concavity_worst    569 non-null    float64\n",
            " 29  points_worst       569 non-null    float64\n",
            " 30  symmetry_worst     569 non-null    float64\n",
            " 31  dimension_worst    569 non-null    float64\n",
            "dtypes: float64(30), int64(1), object(1)\n",
            "memory usage: 142.4+ KB\n"
          ],
          "name": "stdout"
        }
      ]
    },
    {
      "cell_type": "markdown",
      "metadata": {
        "id": "xPvI9bOTgIxj"
      },
      "source": [
        "We can see that the data is structured with 569 examples and 32 features."
      ]
    },
    {
      "cell_type": "markdown",
      "metadata": {
        "id": "PsNqhH-4gIxl"
      },
      "source": [
        "**3. How to drop the id feature from the analysis? Why to remove it?**"
      ]
    },
    {
      "cell_type": "markdown",
      "metadata": {
        "id": "v1c5cebhgIxm"
      },
      "source": [
        "The first variable is an integer variable named id. \n",
        "\n",
        "As this is simply a unique identifier (ID) for each patient in the data, it does not provide useful information, and we will need to exclude it from the model."
      ]
    },
    {
      "cell_type": "code",
      "metadata": {
        "id": "892OLEDggIxn",
        "outputId": "7040a6e4-187c-4495-961b-ee2d4c3cb3ae",
        "colab": {
          "base_uri": "https://localhost:8080/",
          "height": 663
        }
      },
      "source": [
        "df = df.drop(['id'], axis=1)\n",
        "df.info()"
      ],
      "execution_count": null,
      "outputs": [
        {
          "output_type": "stream",
          "text": [
            "<class 'pandas.core.frame.DataFrame'>\n",
            "RangeIndex: 569 entries, 0 to 568\n",
            "Data columns (total 31 columns):\n",
            " #   Column             Non-Null Count  Dtype  \n",
            "---  ------             --------------  -----  \n",
            " 0   diagnosis          569 non-null    object \n",
            " 1   radius_mean        569 non-null    float64\n",
            " 2   texture_mean       569 non-null    float64\n",
            " 3   perimeter_mean     569 non-null    float64\n",
            " 4   area_mean          569 non-null    float64\n",
            " 5   smoothness_mean    569 non-null    float64\n",
            " 6   compactness_mean   569 non-null    float64\n",
            " 7   concavity_mean     569 non-null    float64\n",
            " 8   points_mean        569 non-null    float64\n",
            " 9   symmetry_mean      569 non-null    float64\n",
            " 10  dimension_mean     569 non-null    float64\n",
            " 11  radius_se          569 non-null    float64\n",
            " 12  texture_se         569 non-null    float64\n",
            " 13  perimeter_se       569 non-null    float64\n",
            " 14  area_se            569 non-null    float64\n",
            " 15  smoothness_se      569 non-null    float64\n",
            " 16  compactness_se     569 non-null    float64\n",
            " 17  concavity_se       569 non-null    float64\n",
            " 18  points_se          569 non-null    float64\n",
            " 19  symmetry_se        569 non-null    float64\n",
            " 20  dimension_se       569 non-null    float64\n",
            " 21  radius_worst       569 non-null    float64\n",
            " 22  texture_worst      569 non-null    float64\n",
            " 23  perimeter_worst    569 non-null    float64\n",
            " 24  area_worst         569 non-null    float64\n",
            " 25  smoothness_worst   569 non-null    float64\n",
            " 26  compactness_worst  569 non-null    float64\n",
            " 27  concavity_worst    569 non-null    float64\n",
            " 28  points_worst       569 non-null    float64\n",
            " 29  symmetry_worst     569 non-null    float64\n",
            " 30  dimension_worst    569 non-null    float64\n",
            "dtypes: float64(30), object(1)\n",
            "memory usage: 137.9+ KB\n"
          ],
          "name": "stdout"
        }
      ]
    },
    {
      "cell_type": "markdown",
      "metadata": {
        "id": "ZEf5Xd6JgIxv"
      },
      "source": [
        "**4. Find the target variable. How many levels this variable have?**\n",
        "\n",
        "The next variable in the info() results, diagnosis, is of particular interest as it is the outcome we hope to predict. \n",
        "\n",
        "This feature indicates whether the observation is from a benign or malignant mass."
      ]
    },
    {
      "cell_type": "code",
      "metadata": {
        "id": "rCGu2vkDgIxx",
        "outputId": "3b1af49e-4f95-44d6-98f7-da0550da9f5d",
        "colab": {
          "base_uri": "https://localhost:8080/",
          "height": 68
        }
      },
      "source": [
        "df.diagnosis.value_counts()"
      ],
      "execution_count": null,
      "outputs": [
        {
          "output_type": "execute_result",
          "data": {
            "text/plain": [
              "B    357\n",
              "M    212\n",
              "Name: diagnosis, dtype: int64"
            ]
          },
          "metadata": {
            "tags": []
          },
          "execution_count": 3
        }
      ]
    },
    {
      "cell_type": "markdown",
      "metadata": {
        "id": "PFWHNXbVgIx4"
      },
      "source": [
        "The value_counts() output indicates that 357 masses are benign “B” while 212 are malignant “M”."
      ]
    },
    {
      "cell_type": "markdown",
      "metadata": {
        "id": "DM6NtrZrgIx6"
      },
      "source": [
        "**5. Find the summary of the following 3 features: radius_mean, area_mean, and the smoothness_mean.**"
      ]
    },
    {
      "cell_type": "code",
      "metadata": {
        "id": "8Ss8_fD3gIx8",
        "outputId": "ac4e3270-e0e1-4e1a-e694-963b4b68659b",
        "colab": {
          "base_uri": "https://localhost:8080/",
          "height": 297
        }
      },
      "source": [
        "df[[\"radius_mean\", \"area_mean\", \"smoothness_mean\"]].describe()"
      ],
      "execution_count": null,
      "outputs": [
        {
          "output_type": "execute_result",
          "data": {
            "text/html": [
              "<div>\n",
              "<style scoped>\n",
              "    .dataframe tbody tr th:only-of-type {\n",
              "        vertical-align: middle;\n",
              "    }\n",
              "\n",
              "    .dataframe tbody tr th {\n",
              "        vertical-align: top;\n",
              "    }\n",
              "\n",
              "    .dataframe thead th {\n",
              "        text-align: right;\n",
              "    }\n",
              "</style>\n",
              "<table border=\"1\" class=\"dataframe\">\n",
              "  <thead>\n",
              "    <tr style=\"text-align: right;\">\n",
              "      <th></th>\n",
              "      <th>radius_mean</th>\n",
              "      <th>area_mean</th>\n",
              "      <th>smoothness_mean</th>\n",
              "    </tr>\n",
              "  </thead>\n",
              "  <tbody>\n",
              "    <tr>\n",
              "      <th>count</th>\n",
              "      <td>569.000000</td>\n",
              "      <td>569.000000</td>\n",
              "      <td>569.000000</td>\n",
              "    </tr>\n",
              "    <tr>\n",
              "      <th>mean</th>\n",
              "      <td>14.127292</td>\n",
              "      <td>654.889104</td>\n",
              "      <td>0.096360</td>\n",
              "    </tr>\n",
              "    <tr>\n",
              "      <th>std</th>\n",
              "      <td>3.524049</td>\n",
              "      <td>351.914129</td>\n",
              "      <td>0.014064</td>\n",
              "    </tr>\n",
              "    <tr>\n",
              "      <th>min</th>\n",
              "      <td>6.981000</td>\n",
              "      <td>143.500000</td>\n",
              "      <td>0.052630</td>\n",
              "    </tr>\n",
              "    <tr>\n",
              "      <th>25%</th>\n",
              "      <td>11.700000</td>\n",
              "      <td>420.300000</td>\n",
              "      <td>0.086370</td>\n",
              "    </tr>\n",
              "    <tr>\n",
              "      <th>50%</th>\n",
              "      <td>13.370000</td>\n",
              "      <td>551.100000</td>\n",
              "      <td>0.095870</td>\n",
              "    </tr>\n",
              "    <tr>\n",
              "      <th>75%</th>\n",
              "      <td>15.780000</td>\n",
              "      <td>782.700000</td>\n",
              "      <td>0.105300</td>\n",
              "    </tr>\n",
              "    <tr>\n",
              "      <th>max</th>\n",
              "      <td>28.110000</td>\n",
              "      <td>2501.000000</td>\n",
              "      <td>0.163400</td>\n",
              "    </tr>\n",
              "  </tbody>\n",
              "</table>\n",
              "</div>"
            ],
            "text/plain": [
              "       radius_mean    area_mean  smoothness_mean\n",
              "count   569.000000   569.000000       569.000000\n",
              "mean     14.127292   654.889104         0.096360\n",
              "std       3.524049   351.914129         0.014064\n",
              "min       6.981000   143.500000         0.052630\n",
              "25%      11.700000   420.300000         0.086370\n",
              "50%      13.370000   551.100000         0.095870\n",
              "75%      15.780000   782.700000         0.105300\n",
              "max      28.110000  2501.000000         0.163400"
            ]
          },
          "metadata": {
            "tags": []
          },
          "execution_count": 4
        }
      ]
    },
    {
      "cell_type": "markdown",
      "metadata": {
        "id": "nvs5B8OIgIyD"
      },
      "source": [
        "**6. Looking at the features side-by-side, do you notice anything problematic about the values?**"
      ]
    },
    {
      "cell_type": "markdown",
      "metadata": {
        "id": "KYa7vV8LgIyF"
      },
      "source": [
        "Since smoothness ranges from 0.05 to 0.16 and area ranges from 143.5 to 2501.0, the impact of area is going to be much larger than the smoothness in the distance calculation. \n",
        "\n",
        "This could potentially cause problems for our classifier, so we need to apply normalization to rescale the features to a standard range of values."
      ]
    },
    {
      "cell_type": "markdown",
      "metadata": {
        "id": "JvvnZXK-gIyG"
      },
      "source": [
        "## B. Transformation - normalizing numeric data\n",
        "\n",
        "Let’s normalize just the numeric variable.\n",
        "\n",
        "To normalize these features, we need to create a normalize() function in Python. \n",
        "\n",
        "This function takes a list x of numeric values, and for each value in x, subtracts the minimum value in x and divides by the range of values in x. Finally, the resulting list is returned.\n",
        "\n",
        "**7. Create the normalize() function and check if it work correctly using a list of numbers before applying this function to the whole data.**"
      ]
    },
    {
      "cell_type": "code",
      "metadata": {
        "id": "CIdkCJ9tgIyI",
        "outputId": "71291837-ca5a-4650-957c-e5a4493d85e9",
        "colab": {
          "base_uri": "https://localhost:8080/",
          "height": 235
        }
      },
      "source": [
        "# create normalization function\n",
        "# col is a column in a dataframe\n",
        "def normalize(col):   \n",
        "    return (col-col.min())/(col.max()-col.min())\n",
        "\n",
        "# test normalization function - result should be identical\n",
        "a = pd.DataFrame({\"x\":[1,2,3,4,5,6]})\n",
        "normalize(a)"
      ],
      "execution_count": null,
      "outputs": [
        {
          "output_type": "execute_result",
          "data": {
            "text/html": [
              "<div>\n",
              "<style scoped>\n",
              "    .dataframe tbody tr th:only-of-type {\n",
              "        vertical-align: middle;\n",
              "    }\n",
              "\n",
              "    .dataframe tbody tr th {\n",
              "        vertical-align: top;\n",
              "    }\n",
              "\n",
              "    .dataframe thead th {\n",
              "        text-align: right;\n",
              "    }\n",
              "</style>\n",
              "<table border=\"1\" class=\"dataframe\">\n",
              "  <thead>\n",
              "    <tr style=\"text-align: right;\">\n",
              "      <th></th>\n",
              "      <th>x</th>\n",
              "    </tr>\n",
              "  </thead>\n",
              "  <tbody>\n",
              "    <tr>\n",
              "      <th>0</th>\n",
              "      <td>0.0</td>\n",
              "    </tr>\n",
              "    <tr>\n",
              "      <th>1</th>\n",
              "      <td>0.2</td>\n",
              "    </tr>\n",
              "    <tr>\n",
              "      <th>2</th>\n",
              "      <td>0.4</td>\n",
              "    </tr>\n",
              "    <tr>\n",
              "      <th>3</th>\n",
              "      <td>0.6</td>\n",
              "    </tr>\n",
              "    <tr>\n",
              "      <th>4</th>\n",
              "      <td>0.8</td>\n",
              "    </tr>\n",
              "    <tr>\n",
              "      <th>5</th>\n",
              "      <td>1.0</td>\n",
              "    </tr>\n",
              "  </tbody>\n",
              "</table>\n",
              "</div>"
            ],
            "text/plain": [
              "     x\n",
              "0  0.0\n",
              "1  0.2\n",
              "2  0.4\n",
              "3  0.6\n",
              "4  0.8\n",
              "5  1.0"
            ]
          },
          "metadata": {
            "tags": []
          },
          "execution_count": 5
        }
      ]
    },
    {
      "cell_type": "markdown",
      "metadata": {
        "id": "h0hGn5mSgIyQ"
      },
      "source": [
        "**8. Apply the normalize() function to the whole data. Write the code of this process and rename the new data df1.**"
      ]
    },
    {
      "cell_type": "code",
      "metadata": {
        "id": "S4hwUeKCgIyR",
        "outputId": "f436501f-a0d7-408b-9a37-c44f824709fe",
        "colab": {
          "base_uri": "https://localhost:8080/",
          "height": 853
        }
      },
      "source": [
        "df1 = df.drop(['diagnosis'], axis=1)\n",
        "df1.info()\n",
        "df1 = normalize(df1)\n",
        "df1.head()"
      ],
      "execution_count": null,
      "outputs": [
        {
          "output_type": "stream",
          "text": [
            "<class 'pandas.core.frame.DataFrame'>\n",
            "RangeIndex: 569 entries, 0 to 568\n",
            "Data columns (total 30 columns):\n",
            " #   Column             Non-Null Count  Dtype  \n",
            "---  ------             --------------  -----  \n",
            " 0   radius_mean        569 non-null    float64\n",
            " 1   texture_mean       569 non-null    float64\n",
            " 2   perimeter_mean     569 non-null    float64\n",
            " 3   area_mean          569 non-null    float64\n",
            " 4   smoothness_mean    569 non-null    float64\n",
            " 5   compactness_mean   569 non-null    float64\n",
            " 6   concavity_mean     569 non-null    float64\n",
            " 7   points_mean        569 non-null    float64\n",
            " 8   symmetry_mean      569 non-null    float64\n",
            " 9   dimension_mean     569 non-null    float64\n",
            " 10  radius_se          569 non-null    float64\n",
            " 11  texture_se         569 non-null    float64\n",
            " 12  perimeter_se       569 non-null    float64\n",
            " 13  area_se            569 non-null    float64\n",
            " 14  smoothness_se      569 non-null    float64\n",
            " 15  compactness_se     569 non-null    float64\n",
            " 16  concavity_se       569 non-null    float64\n",
            " 17  points_se          569 non-null    float64\n",
            " 18  symmetry_se        569 non-null    float64\n",
            " 19  dimension_se       569 non-null    float64\n",
            " 20  radius_worst       569 non-null    float64\n",
            " 21  texture_worst      569 non-null    float64\n",
            " 22  perimeter_worst    569 non-null    float64\n",
            " 23  area_worst         569 non-null    float64\n",
            " 24  smoothness_worst   569 non-null    float64\n",
            " 25  compactness_worst  569 non-null    float64\n",
            " 26  concavity_worst    569 non-null    float64\n",
            " 27  points_worst       569 non-null    float64\n",
            " 28  symmetry_worst     569 non-null    float64\n",
            " 29  dimension_worst    569 non-null    float64\n",
            "dtypes: float64(30)\n",
            "memory usage: 133.5 KB\n"
          ],
          "name": "stdout"
        },
        {
          "output_type": "execute_result",
          "data": {
            "text/html": [
              "<div>\n",
              "<style scoped>\n",
              "    .dataframe tbody tr th:only-of-type {\n",
              "        vertical-align: middle;\n",
              "    }\n",
              "\n",
              "    .dataframe tbody tr th {\n",
              "        vertical-align: top;\n",
              "    }\n",
              "\n",
              "    .dataframe thead th {\n",
              "        text-align: right;\n",
              "    }\n",
              "</style>\n",
              "<table border=\"1\" class=\"dataframe\">\n",
              "  <thead>\n",
              "    <tr style=\"text-align: right;\">\n",
              "      <th></th>\n",
              "      <th>radius_mean</th>\n",
              "      <th>texture_mean</th>\n",
              "      <th>perimeter_mean</th>\n",
              "      <th>area_mean</th>\n",
              "      <th>smoothness_mean</th>\n",
              "      <th>compactness_mean</th>\n",
              "      <th>concavity_mean</th>\n",
              "      <th>points_mean</th>\n",
              "      <th>symmetry_mean</th>\n",
              "      <th>dimension_mean</th>\n",
              "      <th>radius_se</th>\n",
              "      <th>texture_se</th>\n",
              "      <th>perimeter_se</th>\n",
              "      <th>area_se</th>\n",
              "      <th>smoothness_se</th>\n",
              "      <th>compactness_se</th>\n",
              "      <th>concavity_se</th>\n",
              "      <th>points_se</th>\n",
              "      <th>symmetry_se</th>\n",
              "      <th>dimension_se</th>\n",
              "      <th>radius_worst</th>\n",
              "      <th>texture_worst</th>\n",
              "      <th>perimeter_worst</th>\n",
              "      <th>area_worst</th>\n",
              "      <th>smoothness_worst</th>\n",
              "      <th>compactness_worst</th>\n",
              "      <th>concavity_worst</th>\n",
              "      <th>points_worst</th>\n",
              "      <th>symmetry_worst</th>\n",
              "      <th>dimension_worst</th>\n",
              "    </tr>\n",
              "  </thead>\n",
              "  <tbody>\n",
              "    <tr>\n",
              "      <th>0</th>\n",
              "      <td>0.252686</td>\n",
              "      <td>0.090632</td>\n",
              "      <td>0.242278</td>\n",
              "      <td>0.135992</td>\n",
              "      <td>0.452920</td>\n",
              "      <td>0.154684</td>\n",
              "      <td>0.093416</td>\n",
              "      <td>0.183897</td>\n",
              "      <td>0.454040</td>\n",
              "      <td>0.201980</td>\n",
              "      <td>0.045084</td>\n",
              "      <td>0.067495</td>\n",
              "      <td>0.043019</td>\n",
              "      <td>0.019851</td>\n",
              "      <td>0.215250</td>\n",
              "      <td>0.071710</td>\n",
              "      <td>0.042500</td>\n",
              "      <td>0.235082</td>\n",
              "      <td>0.159819</td>\n",
              "      <td>0.046750</td>\n",
              "      <td>0.198150</td>\n",
              "      <td>0.096482</td>\n",
              "      <td>0.182081</td>\n",
              "      <td>0.089437</td>\n",
              "      <td>0.444628</td>\n",
              "      <td>0.096351</td>\n",
              "      <td>0.099201</td>\n",
              "      <td>0.322715</td>\n",
              "      <td>0.248768</td>\n",
              "      <td>0.083104</td>\n",
              "    </tr>\n",
              "    <tr>\n",
              "      <th>1</th>\n",
              "      <td>0.171281</td>\n",
              "      <td>0.312479</td>\n",
              "      <td>0.176145</td>\n",
              "      <td>0.086066</td>\n",
              "      <td>0.399476</td>\n",
              "      <td>0.292375</td>\n",
              "      <td>0.149649</td>\n",
              "      <td>0.131312</td>\n",
              "      <td>0.435354</td>\n",
              "      <td>0.314869</td>\n",
              "      <td>0.122759</td>\n",
              "      <td>0.184936</td>\n",
              "      <td>0.125948</td>\n",
              "      <td>0.037912</td>\n",
              "      <td>0.195703</td>\n",
              "      <td>0.252035</td>\n",
              "      <td>0.084697</td>\n",
              "      <td>0.258572</td>\n",
              "      <td>0.382141</td>\n",
              "      <td>0.083717</td>\n",
              "      <td>0.140519</td>\n",
              "      <td>0.291045</td>\n",
              "      <td>0.138802</td>\n",
              "      <td>0.058887</td>\n",
              "      <td>0.331044</td>\n",
              "      <td>0.217530</td>\n",
              "      <td>0.153035</td>\n",
              "      <td>0.272371</td>\n",
              "      <td>0.271043</td>\n",
              "      <td>0.136626</td>\n",
              "    </tr>\n",
              "    <tr>\n",
              "      <th>2</th>\n",
              "      <td>0.192106</td>\n",
              "      <td>0.240785</td>\n",
              "      <td>0.187478</td>\n",
              "      <td>0.097434</td>\n",
              "      <td>0.497156</td>\n",
              "      <td>0.179928</td>\n",
              "      <td>0.071368</td>\n",
              "      <td>0.123260</td>\n",
              "      <td>0.330303</td>\n",
              "      <td>0.283067</td>\n",
              "      <td>0.030853</td>\n",
              "      <td>0.226927</td>\n",
              "      <td>0.027564</td>\n",
              "      <td>0.012585</td>\n",
              "      <td>0.117109</td>\n",
              "      <td>0.053347</td>\n",
              "      <td>0.026667</td>\n",
              "      <td>0.141750</td>\n",
              "      <td>0.130832</td>\n",
              "      <td>0.045023</td>\n",
              "      <td>0.159374</td>\n",
              "      <td>0.384328</td>\n",
              "      <td>0.147019</td>\n",
              "      <td>0.070340</td>\n",
              "      <td>0.434062</td>\n",
              "      <td>0.117307</td>\n",
              "      <td>0.085224</td>\n",
              "      <td>0.255361</td>\n",
              "      <td>0.282476</td>\n",
              "      <td>0.155910</td>\n",
              "    </tr>\n",
              "    <tr>\n",
              "      <th>3</th>\n",
              "      <td>0.203464</td>\n",
              "      <td>0.124450</td>\n",
              "      <td>0.201852</td>\n",
              "      <td>0.102354</td>\n",
              "      <td>0.575697</td>\n",
              "      <td>0.289001</td>\n",
              "      <td>0.108599</td>\n",
              "      <td>0.238370</td>\n",
              "      <td>0.359091</td>\n",
              "      <td>0.226622</td>\n",
              "      <td>0.082165</td>\n",
              "      <td>0.217203</td>\n",
              "      <td>0.051548</td>\n",
              "      <td>0.036474</td>\n",
              "      <td>0.324880</td>\n",
              "      <td>0.245802</td>\n",
              "      <td>0.055227</td>\n",
              "      <td>0.372230</td>\n",
              "      <td>0.111414</td>\n",
              "      <td>0.088001</td>\n",
              "      <td>0.141942</td>\n",
              "      <td>0.099947</td>\n",
              "      <td>0.130086</td>\n",
              "      <td>0.061148</td>\n",
              "      <td>0.432741</td>\n",
              "      <td>0.150294</td>\n",
              "      <td>0.069241</td>\n",
              "      <td>0.295911</td>\n",
              "      <td>0.105855</td>\n",
              "      <td>0.083956</td>\n",
              "    </tr>\n",
              "    <tr>\n",
              "      <th>4</th>\n",
              "      <td>0.388518</td>\n",
              "      <td>0.118363</td>\n",
              "      <td>0.372193</td>\n",
              "      <td>0.241060</td>\n",
              "      <td>0.243748</td>\n",
              "      <td>0.153242</td>\n",
              "      <td>0.079499</td>\n",
              "      <td>0.132058</td>\n",
              "      <td>0.333838</td>\n",
              "      <td>0.115417</td>\n",
              "      <td>0.024190</td>\n",
              "      <td>0.011559</td>\n",
              "      <td>0.027376</td>\n",
              "      <td>0.020392</td>\n",
              "      <td>0.112146</td>\n",
              "      <td>0.094617</td>\n",
              "      <td>0.039167</td>\n",
              "      <td>0.173423</td>\n",
              "      <td>0.120842</td>\n",
              "      <td>0.030133</td>\n",
              "      <td>0.294201</td>\n",
              "      <td>0.098881</td>\n",
              "      <td>0.269386</td>\n",
              "      <td>0.155795</td>\n",
              "      <td>0.273592</td>\n",
              "      <td>0.142048</td>\n",
              "      <td>0.108786</td>\n",
              "      <td>0.281031</td>\n",
              "      <td>0.181747</td>\n",
              "      <td>0.082776</td>\n",
              "    </tr>\n",
              "  </tbody>\n",
              "</table>\n",
              "</div>"
            ],
            "text/plain": [
              "   radius_mean  texture_mean  ...  symmetry_worst  dimension_worst\n",
              "0     0.252686      0.090632  ...        0.248768         0.083104\n",
              "1     0.171281      0.312479  ...        0.271043         0.136626\n",
              "2     0.192106      0.240785  ...        0.282476         0.155910\n",
              "3     0.203464      0.124450  ...        0.105855         0.083956\n",
              "4     0.388518      0.118363  ...        0.181747         0.082776\n",
              "\n",
              "[5 rows x 30 columns]"
            ]
          },
          "metadata": {
            "tags": []
          },
          "execution_count": 6
        }
      ]
    },
    {
      "cell_type": "markdown",
      "metadata": {
        "id": "xMtvOjISgIyY"
      },
      "source": [
        "**9. How to check if the normalization is working?**"
      ]
    },
    {
      "cell_type": "code",
      "metadata": {
        "id": "zkDlFGdrgIyZ",
        "outputId": "1ef8a33c-16fc-4fa0-d7f9-8bbe81238eb7",
        "colab": {
          "base_uri": "https://localhost:8080/",
          "height": 297
        }
      },
      "source": [
        "df1[[\"radius_mean\", \"area_mean\", \"smoothness_mean\"]].describe()"
      ],
      "execution_count": null,
      "outputs": [
        {
          "output_type": "execute_result",
          "data": {
            "text/html": [
              "<div>\n",
              "<style scoped>\n",
              "    .dataframe tbody tr th:only-of-type {\n",
              "        vertical-align: middle;\n",
              "    }\n",
              "\n",
              "    .dataframe tbody tr th {\n",
              "        vertical-align: top;\n",
              "    }\n",
              "\n",
              "    .dataframe thead th {\n",
              "        text-align: right;\n",
              "    }\n",
              "</style>\n",
              "<table border=\"1\" class=\"dataframe\">\n",
              "  <thead>\n",
              "    <tr style=\"text-align: right;\">\n",
              "      <th></th>\n",
              "      <th>radius_mean</th>\n",
              "      <th>area_mean</th>\n",
              "      <th>smoothness_mean</th>\n",
              "    </tr>\n",
              "  </thead>\n",
              "  <tbody>\n",
              "    <tr>\n",
              "      <th>count</th>\n",
              "      <td>569.000000</td>\n",
              "      <td>569.000000</td>\n",
              "      <td>569.000000</td>\n",
              "    </tr>\n",
              "    <tr>\n",
              "      <th>mean</th>\n",
              "      <td>0.338222</td>\n",
              "      <td>0.216920</td>\n",
              "      <td>0.394785</td>\n",
              "    </tr>\n",
              "    <tr>\n",
              "      <th>std</th>\n",
              "      <td>0.166787</td>\n",
              "      <td>0.149274</td>\n",
              "      <td>0.126967</td>\n",
              "    </tr>\n",
              "    <tr>\n",
              "      <th>min</th>\n",
              "      <td>0.000000</td>\n",
              "      <td>0.000000</td>\n",
              "      <td>0.000000</td>\n",
              "    </tr>\n",
              "    <tr>\n",
              "      <th>25%</th>\n",
              "      <td>0.223342</td>\n",
              "      <td>0.117413</td>\n",
              "      <td>0.304595</td>\n",
              "    </tr>\n",
              "    <tr>\n",
              "      <th>50%</th>\n",
              "      <td>0.302381</td>\n",
              "      <td>0.172895</td>\n",
              "      <td>0.390358</td>\n",
              "    </tr>\n",
              "    <tr>\n",
              "      <th>75%</th>\n",
              "      <td>0.416442</td>\n",
              "      <td>0.271135</td>\n",
              "      <td>0.475490</td>\n",
              "    </tr>\n",
              "    <tr>\n",
              "      <th>max</th>\n",
              "      <td>1.000000</td>\n",
              "      <td>1.000000</td>\n",
              "      <td>1.000000</td>\n",
              "    </tr>\n",
              "  </tbody>\n",
              "</table>\n",
              "</div>"
            ],
            "text/plain": [
              "       radius_mean   area_mean  smoothness_mean\n",
              "count   569.000000  569.000000       569.000000\n",
              "mean      0.338222    0.216920         0.394785\n",
              "std       0.166787    0.149274         0.126967\n",
              "min       0.000000    0.000000         0.000000\n",
              "25%       0.223342    0.117413         0.304595\n",
              "50%       0.302381    0.172895         0.390358\n",
              "75%       0.416442    0.271135         0.475490\n",
              "max       1.000000    1.000000         1.000000"
            ]
          },
          "metadata": {
            "tags": []
          },
          "execution_count": 7
        }
      ]
    },
    {
      "cell_type": "markdown",
      "metadata": {
        "id": "_WhB1CShgIye"
      },
      "source": [
        "## C. Data preparation - creating training and test datasets\n",
        "\n",
        "In the absence of new unlabeled data, we can simulate the scenario of testing new unlabeled data by dividing our data into two portions: \n",
        "\n",
        "- a training dataset that will be used to build the k-NN model and \n",
        "- a test dataset that will be used to estimate the predictive accuracy of the model. \n",
        "\n",
        "We will use the first 469 records for the training dataset and the remaining 100 to simulate new patients.\n",
        "\n",
        "**10. Create those training and test sets named data_X_train and data_X_test.**"
      ]
    },
    {
      "cell_type": "code",
      "metadata": {
        "id": "is2TFE1igIyg",
        "outputId": "5b7e2ff6-b0b1-4a39-ce13-be2b68a296c4",
        "colab": {
          "base_uri": "https://localhost:8080/",
          "height": 1000
        }
      },
      "source": [
        "# create training and test data\n",
        "data_X_train = df1.iloc[0:469, ]\n",
        "data_X_train.info()\n",
        "data_X_test = df1.iloc[469:569, ]\n",
        "data_X_test.info()"
      ],
      "execution_count": null,
      "outputs": [
        {
          "output_type": "stream",
          "text": [
            "<class 'pandas.core.frame.DataFrame'>\n",
            "RangeIndex: 469 entries, 0 to 468\n",
            "Data columns (total 30 columns):\n",
            " #   Column             Non-Null Count  Dtype  \n",
            "---  ------             --------------  -----  \n",
            " 0   radius_mean        469 non-null    float64\n",
            " 1   texture_mean       469 non-null    float64\n",
            " 2   perimeter_mean     469 non-null    float64\n",
            " 3   area_mean          469 non-null    float64\n",
            " 4   smoothness_mean    469 non-null    float64\n",
            " 5   compactness_mean   469 non-null    float64\n",
            " 6   concavity_mean     469 non-null    float64\n",
            " 7   points_mean        469 non-null    float64\n",
            " 8   symmetry_mean      469 non-null    float64\n",
            " 9   dimension_mean     469 non-null    float64\n",
            " 10  radius_se          469 non-null    float64\n",
            " 11  texture_se         469 non-null    float64\n",
            " 12  perimeter_se       469 non-null    float64\n",
            " 13  area_se            469 non-null    float64\n",
            " 14  smoothness_se      469 non-null    float64\n",
            " 15  compactness_se     469 non-null    float64\n",
            " 16  concavity_se       469 non-null    float64\n",
            " 17  points_se          469 non-null    float64\n",
            " 18  symmetry_se        469 non-null    float64\n",
            " 19  dimension_se       469 non-null    float64\n",
            " 20  radius_worst       469 non-null    float64\n",
            " 21  texture_worst      469 non-null    float64\n",
            " 22  perimeter_worst    469 non-null    float64\n",
            " 23  area_worst         469 non-null    float64\n",
            " 24  smoothness_worst   469 non-null    float64\n",
            " 25  compactness_worst  469 non-null    float64\n",
            " 26  concavity_worst    469 non-null    float64\n",
            " 27  points_worst       469 non-null    float64\n",
            " 28  symmetry_worst     469 non-null    float64\n",
            " 29  dimension_worst    469 non-null    float64\n",
            "dtypes: float64(30)\n",
            "memory usage: 110.0 KB\n",
            "<class 'pandas.core.frame.DataFrame'>\n",
            "RangeIndex: 100 entries, 469 to 568\n",
            "Data columns (total 30 columns):\n",
            " #   Column             Non-Null Count  Dtype  \n",
            "---  ------             --------------  -----  \n",
            " 0   radius_mean        100 non-null    float64\n",
            " 1   texture_mean       100 non-null    float64\n",
            " 2   perimeter_mean     100 non-null    float64\n",
            " 3   area_mean          100 non-null    float64\n",
            " 4   smoothness_mean    100 non-null    float64\n",
            " 5   compactness_mean   100 non-null    float64\n",
            " 6   concavity_mean     100 non-null    float64\n",
            " 7   points_mean        100 non-null    float64\n",
            " 8   symmetry_mean      100 non-null    float64\n",
            " 9   dimension_mean     100 non-null    float64\n",
            " 10  radius_se          100 non-null    float64\n",
            " 11  texture_se         100 non-null    float64\n",
            " 12  perimeter_se       100 non-null    float64\n",
            " 13  area_se            100 non-null    float64\n",
            " 14  smoothness_se      100 non-null    float64\n",
            " 15  compactness_se     100 non-null    float64\n",
            " 16  concavity_se       100 non-null    float64\n",
            " 17  points_se          100 non-null    float64\n",
            " 18  symmetry_se        100 non-null    float64\n",
            " 19  dimension_se       100 non-null    float64\n",
            " 20  radius_worst       100 non-null    float64\n",
            " 21  texture_worst      100 non-null    float64\n",
            " 22  perimeter_worst    100 non-null    float64\n",
            " 23  area_worst         100 non-null    float64\n",
            " 24  smoothness_worst   100 non-null    float64\n",
            " 25  compactness_worst  100 non-null    float64\n",
            " 26  concavity_worst    100 non-null    float64\n",
            " 27  points_worst       100 non-null    float64\n",
            " 28  symmetry_worst     100 non-null    float64\n",
            " 29  dimension_worst    100 non-null    float64\n",
            "dtypes: float64(30)\n",
            "memory usage: 23.6 KB\n"
          ],
          "name": "stdout"
        }
      ]
    },
    {
      "cell_type": "markdown",
      "metadata": {
        "id": "cEfxi-bpgIym"
      },
      "source": [
        "**11. Can you store its correspondents target variable in 2 separate columns? Name them data_y_train and data_y_test.**"
      ]
    },
    {
      "cell_type": "code",
      "metadata": {
        "id": "xsiYQMtYgIyn",
        "outputId": "ed1e12ad-582b-4bf8-c940-95b8ecfa94e9",
        "colab": {
          "base_uri": "https://localhost:8080/",
          "height": 119
        }
      },
      "source": [
        "# create labels for training and test data\n",
        "\n",
        "data_y_train = df.iloc[0:469, 0]\n",
        "data_y_train.head()\n",
        "data_y_test = df.iloc[469:569,0]\n",
        "data_y_test.head()"
      ],
      "execution_count": null,
      "outputs": [
        {
          "output_type": "execute_result",
          "data": {
            "text/plain": [
              "469    B\n",
              "470    B\n",
              "471    B\n",
              "472    B\n",
              "473    M\n",
              "Name: diagnosis, dtype: object"
            ]
          },
          "metadata": {
            "tags": []
          },
          "execution_count": 9
        }
      ]
    },
    {
      "cell_type": "markdown",
      "metadata": {
        "id": "xbRYz1M2gIyx"
      },
      "source": [
        "# III. Training a model on the data\n",
        "\n",
        "Equipped with our training data and labels column, we are now ready to classify our unknown records.\n",
        "\n",
        "For the k-NN algorithm, the training phase actually involves no model building; the process of training a lazy learner like k-NN simply involves storing the input data in a structured format.\n",
        "\n",
        "**12. To classify our test instances, use a k-NN implementation from the scikitlearn library, which provides a set of powerful python functions for classification.**\n"
      ]
    },
    {
      "cell_type": "code",
      "metadata": {
        "id": "bvUx-Ao8gIyz",
        "outputId": "dd3304e6-2fda-4b77-f980-af6a2b63249a",
        "colab": {
          "base_uri": "https://localhost:8080/",
          "height": 68
        }
      },
      "source": [
        "from sklearn.neighbors import KNeighborsClassifier\n",
        "classifier = KNeighborsClassifier(n_neighbors=5)\n",
        "classifier.fit(data_X_train, data_y_train)"
      ],
      "execution_count": null,
      "outputs": [
        {
          "output_type": "execute_result",
          "data": {
            "text/plain": [
              "KNeighborsClassifier(algorithm='auto', leaf_size=30, metric='minkowski',\n",
              "                     metric_params=None, n_jobs=None, n_neighbors=5, p=2,\n",
              "                     weights='uniform')"
            ]
          },
          "metadata": {
            "tags": []
          },
          "execution_count": 10
        }
      ]
    },
    {
      "cell_type": "code",
      "metadata": {
        "id": "jVQylE6QgIy8",
        "outputId": "66169a80-8bec-4ef7-c06e-17c54e0a01fb",
        "colab": {
          "base_uri": "https://localhost:8080/",
          "height": 153
        }
      },
      "source": [
        "data_y_pred = classifier.predict(data_X_test)\n",
        "data_y_pred"
      ],
      "execution_count": null,
      "outputs": [
        {
          "output_type": "execute_result",
          "data": {
            "text/plain": [
              "array(['B', 'B', 'B', 'B', 'M', 'B', 'M', 'B', 'M', 'B', 'M', 'B', 'B',\n",
              "       'M', 'B', 'B', 'M', 'B', 'M', 'B', 'M', 'M', 'M', 'M', 'B', 'B',\n",
              "       'B', 'B', 'M', 'M', 'M', 'M', 'M', 'M', 'B', 'B', 'B', 'B', 'B',\n",
              "       'M', 'M', 'B', 'M', 'M', 'B', 'M', 'M', 'M', 'M', 'M', 'B', 'B',\n",
              "       'B', 'B', 'B', 'B', 'B', 'B', 'M', 'B', 'B', 'B', 'B', 'B', 'M',\n",
              "       'M', 'B', 'B', 'B', 'B', 'B', 'M', 'B', 'B', 'M', 'M', 'B', 'B',\n",
              "       'B', 'B', 'B', 'B', 'B', 'M', 'B', 'B', 'M', 'B', 'B', 'B', 'B',\n",
              "       'M', 'B', 'B', 'B', 'B', 'B', 'M', 'B', 'M'], dtype=object)"
            ]
          },
          "metadata": {
            "tags": []
          },
          "execution_count": 11
        }
      ]
    },
    {
      "cell_type": "markdown",
      "metadata": {
        "id": "CxPdIqcRgIzF"
      },
      "source": [
        "# IV. Evaluating model performance\n",
        "\n",
        "The next step of the process is to evaluate how well the predicted classes in the df_ test_pred list matches up with the known values in the df_test_labels list.\n",
        "\n",
        "**13. How to compare data_y_pred  to data_y_test? Tip: Those are 2 categorical variables, how to study the relationship of two categorical variables?**"
      ]
    },
    {
      "cell_type": "code",
      "metadata": {
        "id": "QJU8D-1GgIzI",
        "outputId": "40f4fecb-68fd-4013-d1d2-22a1ee972e7f",
        "colab": {
          "base_uri": "https://localhost:8080/",
          "height": 142
        }
      },
      "source": [
        "contingency_table = pd.crosstab(data_y_test,data_y_pred)\n",
        "contingency_table"
      ],
      "execution_count": null,
      "outputs": [
        {
          "output_type": "execute_result",
          "data": {
            "text/html": [
              "<div>\n",
              "<style scoped>\n",
              "    .dataframe tbody tr th:only-of-type {\n",
              "        vertical-align: middle;\n",
              "    }\n",
              "\n",
              "    .dataframe tbody tr th {\n",
              "        vertical-align: top;\n",
              "    }\n",
              "\n",
              "    .dataframe thead th {\n",
              "        text-align: right;\n",
              "    }\n",
              "</style>\n",
              "<table border=\"1\" class=\"dataframe\">\n",
              "  <thead>\n",
              "    <tr style=\"text-align: right;\">\n",
              "      <th>col_0</th>\n",
              "      <th>B</th>\n",
              "      <th>M</th>\n",
              "    </tr>\n",
              "    <tr>\n",
              "      <th>diagnosis</th>\n",
              "      <th></th>\n",
              "      <th></th>\n",
              "    </tr>\n",
              "  </thead>\n",
              "  <tbody>\n",
              "    <tr>\n",
              "      <th>B</th>\n",
              "      <td>61</td>\n",
              "      <td>0</td>\n",
              "    </tr>\n",
              "    <tr>\n",
              "      <th>M</th>\n",
              "      <td>2</td>\n",
              "      <td>37</td>\n",
              "    </tr>\n",
              "  </tbody>\n",
              "</table>\n",
              "</div>"
            ],
            "text/plain": [
              "col_0       B   M\n",
              "diagnosis        \n",
              "B          61   0\n",
              "M           2  37"
            ]
          },
          "metadata": {
            "tags": []
          },
          "execution_count": 12
        }
      ]
    },
    {
      "cell_type": "code",
      "metadata": {
        "id": "L0O-6C6ngIzO",
        "outputId": "8e94571d-73e7-4ad9-e4f1-4e74d8871f76",
        "colab": {
          "base_uri": "https://localhost:8080/",
          "height": 204
        }
      },
      "source": [
        "# or we can use these functions from Scikit Learn\n",
        "from sklearn.metrics import classification_report, confusion_matrix\n",
        "print(confusion_matrix(data_y_test,data_y_pred))\n",
        "print(classification_report(data_y_test,data_y_pred))"
      ],
      "execution_count": null,
      "outputs": [
        {
          "output_type": "stream",
          "text": [
            "[[61  0]\n",
            " [ 2 37]]\n",
            "              precision    recall  f1-score   support\n",
            "\n",
            "           B       0.97      1.00      0.98        61\n",
            "           M       1.00      0.95      0.97        39\n",
            "\n",
            "    accuracy                           0.98       100\n",
            "   macro avg       0.98      0.97      0.98       100\n",
            "weighted avg       0.98      0.98      0.98       100\n",
            "\n"
          ],
          "name": "stdout"
        }
      ]
    },
    {
      "cell_type": "markdown",
      "metadata": {
        "id": "ZIXsrCPqgIzX"
      },
      "source": [
        "**14. What is accuracy of this model?**\n",
        "\n",
        "A total of 2 out of 100, or 2 percent of masses were incorrectly classified by the k-NN approach that means an accuracy of 98 percent."
      ]
    },
    {
      "cell_type": "markdown",
      "metadata": {
        "id": "taL_WvTngIzY"
      },
      "source": [
        "**15. Discuss and explain the results of using this model by looking into the false negative and the false positive numbers.**\n",
        "\n",
        "The cell percentages in the table indicate the proportion of values that fall into four categories: the true negative, the true positive, the false negative and the false positive.\n",
        "\n",
        "The top-left cell indicates the **true negative** results. These 61 of 100 values are cases where the mass was benign and the k-NN algorithm correctly identified it as such.\n",
        "\n",
        "The bottom-right cell indicates the **true positive** results, where the classifier and the clinically determined label agree that the mass is malignant. A total of 37 of 100 predictions were true positives.\n",
        "\n",
        "The cells falling on the other diagonal contain counts of examples where the k-NN approach disagreed with the true label.\n",
        "\n",
        "The two examples in the lower-left cell are **false negative** results; in this case, the predicted value was benign, but the tumor was actually malignant. Errors in this direction could be extremely costly as they might lead a patient to believe that she is cancer-free, but in reality, the disease may continue to spread.\n",
        "\n",
        "The top-right cell would contain the **false positive** results, if there were any. These values occur when the model classifies a mass as malignant, but in reality, it was benign. Although such errors are less dangerous than a false negative result, they should also be avoided as they could lead to additional financial burden on the health care system or additional stress for the patient as additional tests or treatment may have to be provided."
      ]
    },
    {
      "cell_type": "markdown",
      "metadata": {
        "id": "MJE2hYrVgIzZ"
      },
      "source": [
        "**16. Is it possible to improve the performance of this model?**\n",
        "\n",
        "While 98 percent accuracy seems impressive for a few lines of code, we might try another iteration of the model to see whether we can improve the performance and reduce the number of values that have been incorrectly classified, particularly because the errors were dangerous false negatives."
      ]
    },
    {
      "cell_type": "markdown",
      "metadata": {
        "id": "JoVGzMFbgIza"
      },
      "source": [
        "\n",
        "# V. Improving model performance: Assignment 4\n",
        "\n",
        "**17. How can you improve the performance of your knn model? list two ways.**\n"
      ]
    },
    {
      "cell_type": "markdown",
      "metadata": {
        "id": "5nV6UiQ_CiQ_"
      },
      "source": [
        "* Hyper parameter tuning; using a range of k nearest neighbors and metric distances that are the; manhattan, euclidean and minkowski.\n",
        "* Dimensionality reduction."
      ]
    },
    {
      "cell_type": "markdown",
      "metadata": {
        "id": "elRskFgCgIzf"
      },
      "source": [
        "**18. Apply those 2 different ways of improvements. Discuss and explain your results.**"
      ]
    },
    {
      "cell_type": "markdown",
      "metadata": {
        "id": "Xi_n3qTxCmwq"
      },
      "source": [
        "### Hyper parameter tuning using the Grid Search CV"
      ]
    },
    {
      "cell_type": "code",
      "metadata": {
        "id": "AKLIh3lAwGM_"
      },
      "source": [
        "#Defining the hyper parameters for the Knearest Neighbors Classifier\n",
        "leaf_size = list(range(1,50))\n",
        "n_neighbors = list(range(1,30))\n",
        "p = [1,2]\n",
        "metric = ['manhattan', 'euclidean', 'minkowski']\n",
        "#Creating a dictionary with the hyperparameters\n",
        "hyperparameters = dict(leaf_size = leaf_size, n_neighbors = n_neighbors, p=p,metric = metric)"
      ],
      "execution_count": null,
      "outputs": []
    },
    {
      "cell_type": "code",
      "metadata": {
        "id": "JjyCeN34wKTT"
      },
      "source": [
        "#I used GridSearch to look for the best parameters\n",
        "from sklearn.model_selection import GridSearchCV\n",
        "\n",
        "classifier = KNeighborsClassifier()\n",
        "\n",
        "clf = GridSearchCV(classifier, hyperparameters,cv=10)"
      ],
      "execution_count": null,
      "outputs": []
    },
    {
      "cell_type": "code",
      "metadata": {
        "id": "L9rWU8cVwOIH"
      },
      "source": [
        "#Reduction of columns using the Linear Discriminant Analysis\n",
        "from sklearn.discriminant_analysis import LinearDiscriminantAnalysis as LDA\n",
        "lda = LDA(n_components=1)\n",
        "X_train = lda.fit_transform(data_X_train, data_y_train)\n",
        "X_test = lda.transform(data_X_test)"
      ],
      "execution_count": null,
      "outputs": []
    },
    {
      "cell_type": "code",
      "metadata": {
        "id": "_-FcxUbZwX7X",
        "outputId": "549f029b-09cc-4035-f0c8-91e142cfdb7a",
        "colab": {
          "base_uri": "https://localhost:8080/",
          "height": 306
        }
      },
      "source": [
        "#Fitting the model\n",
        "clf.fit(X_train,data_y_train)"
      ],
      "execution_count": null,
      "outputs": [
        {
          "output_type": "execute_result",
          "data": {
            "text/plain": [
              "GridSearchCV(cv=10, error_score=nan,\n",
              "             estimator=KNeighborsClassifier(algorithm='auto', leaf_size=30,\n",
              "                                            metric='minkowski',\n",
              "                                            metric_params=None, n_jobs=None,\n",
              "                                            n_neighbors=5, p=2,\n",
              "                                            weights='uniform'),\n",
              "             iid='deprecated', n_jobs=None,\n",
              "             param_grid={'leaf_size': [1, 2, 3, 4, 5, 6, 7, 8, 9, 10, 11, 12,\n",
              "                                       13, 14, 15, 16, 17, 18, 19, 20, 21, 22,\n",
              "                                       23, 24, 25, 26, 27, 28, 29, 30, ...],\n",
              "                         'metric': ['manhattan', 'euclidean', 'minkowski'],\n",
              "                         'n_neighbors': [1, 2, 3, 4, 5, 6, 7, 8, 9, 10, 11, 12,\n",
              "                                         13, 14, 15, 16, 17, 18, 19, 20, 21, 22,\n",
              "                                         23, 24, 25, 26, 27, 28, 29],\n",
              "                         'p': [1, 2]},\n",
              "             pre_dispatch='2*n_jobs', refit=True, return_train_score=False,\n",
              "             scoring=None, verbose=0)"
            ]
          },
          "metadata": {
            "tags": []
          },
          "execution_count": 17
        }
      ]
    },
    {
      "cell_type": "code",
      "metadata": {
        "id": "_vCFY3RpxqV1",
        "outputId": "aeac96b0-b6be-493e-f49a-e1374888d8da",
        "colab": {
          "base_uri": "https://localhost:8080/",
          "height": 34
        }
      },
      "source": [
        "#Printing out the best parameters for the model.\n",
        "clf.best_params_"
      ],
      "execution_count": null,
      "outputs": [
        {
          "output_type": "execute_result",
          "data": {
            "text/plain": [
              "{'leaf_size': 1, 'metric': 'manhattan', 'n_neighbors': 5, 'p': 1}"
            ]
          },
          "metadata": {
            "tags": []
          },
          "execution_count": 18
        }
      ]
    },
    {
      "cell_type": "code",
      "metadata": {
        "id": "TD1o9aQLxuWO",
        "outputId": "b014bcf6-87f0-46db-f945-823d354a741f",
        "colab": {
          "base_uri": "https://localhost:8080/",
          "height": 68
        }
      },
      "source": [
        "#Fitting the model using the best parameters in the model.\n",
        "classifier = KNeighborsClassifier(leaf_size=1,n_neighbors=5,p=1,metric='manhattan')\n",
        "classifier.fit(X_train,data_y_train)"
      ],
      "execution_count": null,
      "outputs": [
        {
          "output_type": "execute_result",
          "data": {
            "text/plain": [
              "KNeighborsClassifier(algorithm='auto', leaf_size=1, metric='manhattan',\n",
              "                     metric_params=None, n_jobs=None, n_neighbors=5, p=1,\n",
              "                     weights='uniform')"
            ]
          },
          "metadata": {
            "tags": []
          },
          "execution_count": 20
        }
      ]
    },
    {
      "cell_type": "code",
      "metadata": {
        "id": "NvhsiZG0x0oX",
        "outputId": "3830b513-ba96-48e9-bc4b-9b742bfc3bc0",
        "colab": {
          "base_uri": "https://localhost:8080/",
          "height": 204
        }
      },
      "source": [
        "#Predicting values using our test set\n",
        "y_predict = classifier.predict(X_test)\n",
        "#Printing out the metrics for assessing the model's perfromance\n",
        "print(confusion_matrix(data_y_test,y_predict))\n",
        "print(classification_report(data_y_test,y_predict))"
      ],
      "execution_count": null,
      "outputs": [
        {
          "output_type": "stream",
          "text": [
            "[[58  3]\n",
            " [ 0 39]]\n",
            "              precision    recall  f1-score   support\n",
            "\n",
            "           B       1.00      0.95      0.97        61\n",
            "           M       0.93      1.00      0.96        39\n",
            "\n",
            "    accuracy                           0.97       100\n",
            "   macro avg       0.96      0.98      0.97       100\n",
            "weighted avg       0.97      0.97      0.97       100\n",
            "\n"
          ],
          "name": "stdout"
        }
      ]
    },
    {
      "cell_type": "markdown",
      "metadata": {
        "id": "zh12pgY0DOyP"
      },
      "source": [
        "### Did the model's performance improve?"
      ]
    },
    {
      "cell_type": "markdown",
      "metadata": {
        "id": "xLnb6QtcDD0h"
      },
      "source": [
        "Though, the model had a reduced accuracy it was able to omit the false positives. There was a 3% error on the false negatives which we will reduce the columns to see whether our model's performance will increase."
      ]
    },
    {
      "cell_type": "markdown",
      "metadata": {
        "id": "Y8TayhozLGjS"
      },
      "source": [
        "### Choosing the most important features to input in our model using the Random Forest Algorithm."
      ]
    },
    {
      "cell_type": "code",
      "metadata": {
        "id": "Tsc-ZbR6gIzg",
        "outputId": "5daa56f0-1339-4b19-e696-d4b1e60cfdda",
        "colab": {
          "base_uri": "https://localhost:8080/",
          "height": 153
        }
      },
      "source": [
        "#Fitting our data in a Random Forest model.\n",
        "from sklearn.ensemble import RandomForestClassifier \n",
        "\n",
        "forest = RandomForestClassifier(n_estimators=100,random_state=42,min_samples_split=20,max_depth=5)\n",
        "forest.fit(data_X_train,data_y_train)"
      ],
      "execution_count": null,
      "outputs": [
        {
          "output_type": "execute_result",
          "data": {
            "text/plain": [
              "RandomForestClassifier(bootstrap=True, ccp_alpha=0.0, class_weight=None,\n",
              "                       criterion='gini', max_depth=5, max_features='auto',\n",
              "                       max_leaf_nodes=None, max_samples=None,\n",
              "                       min_impurity_decrease=0.0, min_impurity_split=None,\n",
              "                       min_samples_leaf=1, min_samples_split=20,\n",
              "                       min_weight_fraction_leaf=0.0, n_estimators=100,\n",
              "                       n_jobs=None, oob_score=False, random_state=42, verbose=0,\n",
              "                       warm_start=False)"
            ]
          },
          "metadata": {
            "tags": []
          },
          "execution_count": 23
        }
      ]
    },
    {
      "cell_type": "code",
      "metadata": {
        "id": "nXuwJ9n8Lyhc"
      },
      "source": [
        "#Predicting using our test values.\n",
        "y_predict = forest.predict(data_X_test)"
      ],
      "execution_count": null,
      "outputs": []
    },
    {
      "cell_type": "code",
      "metadata": {
        "id": "svmZ4bhNMC1A",
        "outputId": "f2ace3dc-32e1-4172-92eb-539824ed5d62",
        "colab": {
          "base_uri": "https://localhost:8080/",
          "height": 792
        }
      },
      "source": [
        "#Visualizing the Decision Tree of our 50th tree in our forest.\n",
        "from sklearn.tree import export_graphviz\n",
        "from sklearn.externals.six import StringIO\n",
        "StringIO().write(str((1,2)))\n",
        "from IPython.display import Image \n",
        "import pydotplus\n",
        "\n",
        "tree = forest.estimators_[3]\n",
        "\n",
        "dot_data = StringIO()\n",
        "export_graphviz(tree, out_file=dot_data,  \n",
        "                filled=True, rounded=True,\n",
        "                special_characters=True,feature_names = df1.columns)\n",
        "graph = pydotplus.graph_from_dot_data(dot_data.getvalue()) \n",
        "graph.write_png('BreastCancer.png') \n",
        "Image(graph.create_png())"
      ],
      "execution_count": null,
      "outputs": [
        {
          "output_type": "execute_result",
          "data": {
            "image/png": "[encoded data removed]",
            "text/plain": [
              "<IPython.core.display.Image object>"
            ]
          },
          "metadata": {
            "tags": []
          },
          "execution_count": 31
        }
      ]
    },
    {
      "cell_type": "code",
      "metadata": {
        "id": "cN0fZ7L3MUq_",
        "outputId": "7742607a-25ef-4726-c6f0-87f8a713358c",
        "colab": {
          "base_uri": "https://localhost:8080/",
          "height": 390
        }
      },
      "source": [
        "#Picking the top most important features\n",
        "important_feat = pd.DataFrame({'feature': df1.columns, 'importance': forest.feature_importances_}).set_index('feature').sort_values(by = 'importance', ascending = False).head(10)\n",
        "important_feat"
      ],
      "execution_count": null,
      "outputs": [
        {
          "output_type": "execute_result",
          "data": {
            "text/html": [
              "<div>\n",
              "<style scoped>\n",
              "    .dataframe tbody tr th:only-of-type {\n",
              "        vertical-align: middle;\n",
              "    }\n",
              "\n",
              "    .dataframe tbody tr th {\n",
              "        vertical-align: top;\n",
              "    }\n",
              "\n",
              "    .dataframe thead th {\n",
              "        text-align: right;\n",
              "    }\n",
              "</style>\n",
              "<table border=\"1\" class=\"dataframe\">\n",
              "  <thead>\n",
              "    <tr style=\"text-align: right;\">\n",
              "      <th></th>\n",
              "      <th>importance</th>\n",
              "    </tr>\n",
              "    <tr>\n",
              "      <th>feature</th>\n",
              "      <th></th>\n",
              "    </tr>\n",
              "  </thead>\n",
              "  <tbody>\n",
              "    <tr>\n",
              "      <th>points_worst</th>\n",
              "      <td>0.138314</td>\n",
              "    </tr>\n",
              "    <tr>\n",
              "      <th>area_worst</th>\n",
              "      <td>0.132895</td>\n",
              "    </tr>\n",
              "    <tr>\n",
              "      <th>points_mean</th>\n",
              "      <td>0.119176</td>\n",
              "    </tr>\n",
              "    <tr>\n",
              "      <th>perimeter_worst</th>\n",
              "      <td>0.095194</td>\n",
              "    </tr>\n",
              "    <tr>\n",
              "      <th>radius_worst</th>\n",
              "      <td>0.088658</td>\n",
              "    </tr>\n",
              "    <tr>\n",
              "      <th>concavity_mean</th>\n",
              "      <td>0.080543</td>\n",
              "    </tr>\n",
              "    <tr>\n",
              "      <th>perimeter_mean</th>\n",
              "      <td>0.075221</td>\n",
              "    </tr>\n",
              "    <tr>\n",
              "      <th>radius_mean</th>\n",
              "      <td>0.053031</td>\n",
              "    </tr>\n",
              "    <tr>\n",
              "      <th>area_se</th>\n",
              "      <td>0.052094</td>\n",
              "    </tr>\n",
              "    <tr>\n",
              "      <th>concavity_worst</th>\n",
              "      <td>0.040774</td>\n",
              "    </tr>\n",
              "  </tbody>\n",
              "</table>\n",
              "</div>"
            ],
            "text/plain": [
              "                 importance\n",
              "feature                    \n",
              "points_worst       0.138314\n",
              "area_worst         0.132895\n",
              "points_mean        0.119176\n",
              "perimeter_worst    0.095194\n",
              "radius_worst       0.088658\n",
              "concavity_mean     0.080543\n",
              "perimeter_mean     0.075221\n",
              "radius_mean        0.053031\n",
              "area_se            0.052094\n",
              "concavity_worst    0.040774"
            ]
          },
          "metadata": {
            "tags": []
          },
          "execution_count": 33
        }
      ]
    },
    {
      "cell_type": "code",
      "metadata": {
        "id": "HeHpLnICNZrc"
      },
      "source": [
        "features = df1[['points_worst','area_worst',\t'points_mean','perimeter_worst','radius_worst','concavity_mean','perimeter_mean','radius_mean','area_se','concavity_worst']]"
      ],
      "execution_count": null,
      "outputs": []
    },
    {
      "cell_type": "code",
      "metadata": {
        "id": "Y4osti_HOsrd"
      },
      "source": [
        "# create training and test data\n",
        "data_X_train = features.iloc[0:469, ]\n",
        "data_X_test = features.iloc[469:569, ]"
      ],
      "execution_count": null,
      "outputs": []
    },
    {
      "cell_type": "code",
      "metadata": {
        "id": "hHej-NtMPG5Q"
      },
      "source": [
        "# create labels for training and test data\n",
        "\n",
        "data_y_train = df.iloc[0:469, 0]\n",
        "data_y_test = df.iloc[469:569,0]"
      ],
      "execution_count": null,
      "outputs": []
    },
    {
      "cell_type": "code",
      "metadata": {
        "id": "9i_fD3p8QTVi",
        "outputId": "eca364b5-aad0-4675-ada7-dd93a76442ac",
        "colab": {
          "base_uri": "https://localhost:8080/",
          "height": 68
        }
      },
      "source": [
        "from sklearn.neighbors import KNeighborsClassifier\n",
        "classifier = KNeighborsClassifier(n_neighbors=5)\n",
        "classifier.fit(data_X_train, data_y_train)"
      ],
      "execution_count": null,
      "outputs": [
        {
          "output_type": "execute_result",
          "data": {
            "text/plain": [
              "KNeighborsClassifier(algorithm='auto', leaf_size=30, metric='minkowski',\n",
              "                     metric_params=None, n_jobs=None, n_neighbors=5, p=2,\n",
              "                     weights='uniform')"
            ]
          },
          "metadata": {
            "tags": []
          },
          "execution_count": 66
        }
      ]
    },
    {
      "cell_type": "code",
      "metadata": {
        "id": "Ri8Xgc-gQezs"
      },
      "source": [
        "data_y_pred = classifier.predict(data_X_test)"
      ],
      "execution_count": null,
      "outputs": []
    },
    {
      "cell_type": "code",
      "metadata": {
        "id": "enENu-iUQnDF",
        "outputId": "664d12cd-5232-4f54-ec66-1489de188b1e",
        "colab": {
          "base_uri": "https://localhost:8080/",
          "height": 204
        }
      },
      "source": [
        "# or we can use these functions from Scikit Learn\n",
        "from sklearn.metrics import classification_report, confusion_matrix\n",
        "print(confusion_matrix(data_y_test,data_y_pred))\n",
        "print(classification_report(data_y_test,data_y_pred))"
      ],
      "execution_count": null,
      "outputs": [
        {
          "output_type": "stream",
          "text": [
            "[[59  2]\n",
            " [ 5 34]]\n",
            "              precision    recall  f1-score   support\n",
            "\n",
            "           B       0.92      0.97      0.94        61\n",
            "           M       0.94      0.87      0.91        39\n",
            "\n",
            "    accuracy                           0.93       100\n",
            "   macro avg       0.93      0.92      0.93       100\n",
            "weighted avg       0.93      0.93      0.93       100\n",
            "\n"
          ],
          "name": "stdout"
        }
      ]
    },
    {
      "cell_type": "code",
      "metadata": {
        "id": "611B7oi4Pvlu"
      },
      "source": [
        "#I used GridSearch to look for the best parameters\n",
        "from sklearn.model_selection import GridSearchCV\n",
        "\n",
        "classifier = KNeighborsClassifier()\n",
        "\n",
        "clf = GridSearchCV(classifier, hyperparameters,cv=10)"
      ],
      "execution_count": null,
      "outputs": []
    },
    {
      "cell_type": "code",
      "metadata": {
        "id": "QVh8_L9kRCTl",
        "outputId": "8f5765ed-b76b-4802-b1cc-34eec66048ac",
        "colab": {
          "base_uri": "https://localhost:8080/",
          "height": 306
        }
      },
      "source": [
        "#Fitting the model\n",
        "clf.fit(X_train,data_y_train)"
      ],
      "execution_count": null,
      "outputs": [
        {
          "output_type": "execute_result",
          "data": {
            "text/plain": [
              "GridSearchCV(cv=10, error_score=nan,\n",
              "             estimator=KNeighborsClassifier(algorithm='auto', leaf_size=30,\n",
              "                                            metric='minkowski',\n",
              "                                            metric_params=None, n_jobs=None,\n",
              "                                            n_neighbors=5, p=2,\n",
              "                                            weights='uniform'),\n",
              "             iid='deprecated', n_jobs=None,\n",
              "             param_grid={'leaf_size': [1, 2, 3, 4, 5, 6, 7, 8, 9, 10, 11, 12,\n",
              "                                       13, 14, 15, 16, 17, 18, 19, 20, 21, 22,\n",
              "                                       23, 24, 25, 26, 27, 28, 29, 30, ...],\n",
              "                         'metric': ['manhattan', 'euclidean', 'minkowski'],\n",
              "                         'n_neighbors': [1, 2, 3, 4, 5, 6, 7, 8, 9, 10, 11, 12,\n",
              "                                         13, 14, 15, 16, 17, 18, 19, 20, 21, 22,\n",
              "                                         23, 24, 25, 26, 27, 28, 29],\n",
              "                         'p': [1, 2]},\n",
              "             pre_dispatch='2*n_jobs', refit=True, return_train_score=False,\n",
              "             scoring=None, verbose=0)"
            ]
          },
          "metadata": {
            "tags": []
          },
          "execution_count": 70
        }
      ]
    },
    {
      "cell_type": "code",
      "metadata": {
        "id": "v9fufhgySVoh",
        "outputId": "c71f7c36-746c-4b7a-fbf5-81b636955a95",
        "colab": {
          "base_uri": "https://localhost:8080/",
          "height": 34
        }
      },
      "source": [
        "#Printing out the best parameters for the model\n",
        "clf.best_params_"
      ],
      "execution_count": null,
      "outputs": [
        {
          "output_type": "execute_result",
          "data": {
            "text/plain": [
              "{'leaf_size': 1, 'metric': 'manhattan', 'n_neighbors': 16, 'p': 1}"
            ]
          },
          "metadata": {
            "tags": []
          },
          "execution_count": 71
        }
      ]
    },
    {
      "cell_type": "code",
      "metadata": {
        "id": "eBEB7UIPSdVj",
        "outputId": "63b0b6ae-1bfc-4d11-e626-db6adee5d401",
        "colab": {
          "base_uri": "https://localhost:8080/",
          "height": 68
        }
      },
      "source": [
        "#Fitting the model using the best parameters in the model.\n",
        "classifier = KNeighborsClassifier(leaf_size=1,n_neighbors=16,p=1,metric='manhattan')\n",
        "classifier.fit(X_train,data_y_train)"
      ],
      "execution_count": null,
      "outputs": [
        {
          "output_type": "execute_result",
          "data": {
            "text/plain": [
              "KNeighborsClassifier(algorithm='auto', leaf_size=1, metric='manhattan',\n",
              "                     metric_params=None, n_jobs=None, n_neighbors=16, p=1,\n",
              "                     weights='uniform')"
            ]
          },
          "metadata": {
            "tags": []
          },
          "execution_count": 72
        }
      ]
    },
    {
      "cell_type": "code",
      "metadata": {
        "id": "5R-X58AOSgqx",
        "outputId": "dd14616a-9466-4180-9b84-26853d538987",
        "colab": {
          "base_uri": "https://localhost:8080/",
          "height": 204
        }
      },
      "source": [
        "#Predicting values using our test set\n",
        "y_predict = classifier.predict(X_test)\n",
        "#Printing out the metrics for assessing the model's perfromance\n",
        "print(confusion_matrix(data_y_test,y_predict))\n",
        "print(classification_report(data_y_test,y_predict))"
      ],
      "execution_count": null,
      "outputs": [
        {
          "output_type": "stream",
          "text": [
            "[[61  0]\n",
            " [ 5 34]]\n",
            "              precision    recall  f1-score   support\n",
            "\n",
            "           B       0.92      1.00      0.96        61\n",
            "           M       1.00      0.87      0.93        39\n",
            "\n",
            "    accuracy                           0.95       100\n",
            "   macro avg       0.96      0.94      0.95       100\n",
            "weighted avg       0.95      0.95      0.95       100\n",
            "\n"
          ],
          "name": "stdout"
        }
      ]
    },
    {
      "cell_type": "markdown",
      "metadata": {
        "id": "YUlH_p767r0K"
      },
      "source": [
        "The model did not perform better after dimensionality reduction. In this case, I would recommend picking the baseline model or the tuned model. The tuned model has an advantage of no fales negatives hence but with 3 false positives.  "
      ]
    },
    {
      "cell_type": "code",
      "metadata": {
        "id": "shMEV4YWQG63"
      },
      "source": [
        ""
      ],
      "execution_count": null,
      "outputs": []
    }
  ]
}